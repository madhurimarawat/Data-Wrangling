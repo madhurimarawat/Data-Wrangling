{
 "cells": [
  {
   "cell_type": "markdown",
   "id": "b83a7bb3",
   "metadata": {},
   "source": [
    "## Experiment 9\n",
    "\n",
    "### Date-Time Processing: Extract date or time components from datetime columns and perform operations such as calculating time differences or aggregating by time intervals. "
   ]
  },
  {
   "cell_type": "markdown",
   "id": "4088722b",
   "metadata": {},
   "source": [
    "### **Explanation for Date-Time Processing Code**\n",
    "1. **Input Data**: A sample DataFrame with a `datetime` column, `event_time`.\n",
    "2. **Conversion**: The `pd.to_datetime` method converts the column to `datetime` format for processing.\n",
    "3. **Extraction**: Using `.dt` accessor, date and time components are extracted (e.g., date, hour, minute).\n",
    "4. **Time Difference Calculation**: The time difference is computed relative to the first event using subtraction and converting the result to minutes.\n",
    "5. **Aggregation**: Events are grouped by their hour of occurrence using `groupby` to count events in each hour."
   ]
  },
  {
   "cell_type": "code",
   "execution_count": 4,
   "id": "2b8111a4",
   "metadata": {},
   "outputs": [
    {
     "name": "stdout",
     "output_type": "stream",
     "text": [
      "Original DataFrame with Date-Time Processing:\n",
      "\n",
      "    event_id          event_time  event_date  event_hour  event_minute  \\\n",
      "0         1 2024-11-23 10:30:00  2024-11-23          10            30   \n",
      "1         2 2024-11-23 11:15:00  2024-11-23          11            15   \n",
      "2         3 2024-11-23 12:45:00  2024-11-23          12            45   \n",
      "3         4 2024-11-23 14:00:00  2024-11-23          14             0   \n",
      "\n",
      "   time_diff_minutes  \n",
      "0                0.0  \n",
      "1               45.0  \n",
      "2              135.0  \n",
      "3              210.0   \n",
      "\n",
      "Hourly Aggregation:\n",
      "\n",
      "    event_time  event_count\n",
      "0          10            1\n",
      "1          11            1\n",
      "2          12            1\n",
      "3          14            1 \n",
      "\n"
     ]
    }
   ],
   "source": [
    "# Importing Required Libraries\n",
    "import pandas as pd\n",
    "from datetime import datetime\n",
    "\n",
    "# Create a sample DataFrame with datetime column\n",
    "data = {\n",
    "    \"event_id\": [1, 2, 3, 4],\n",
    "    \"event_time\": [\n",
    "        \"2024-11-23 10:30:00\",\n",
    "        \"2024-11-23 11:15:00\",\n",
    "        \"2024-11-23 12:45:00\",\n",
    "        \"2024-11-23 14:00:00\"\n",
    "    ]\n",
    "}\n",
    "\n",
    "# Convert the event_time column to datetime format\n",
    "df = pd.DataFrame(data)\n",
    "df['event_time'] = pd.to_datetime(df['event_time'])\n",
    "\n",
    "# Extracting components from datetime\n",
    "df['event_date'] = df['event_time'].dt.date   # Extract date\n",
    "df['event_hour'] = df['event_time'].dt.hour  # Extract hour\n",
    "df['event_minute'] = df['event_time'].dt.minute  # Extract minute\n",
    "\n",
    "# Calculate time differences (e.g., time since the first event)\n",
    "df['time_diff_minutes'] = (df['event_time'] - df['event_time'].min()).dt.total_seconds() / 60\n",
    "\n",
    "# Aggregating by time intervals (e.g., grouping by hour)\n",
    "hourly_aggregation = df.groupby(df['event_time'].dt.hour).size().reset_index(name=\"event_count\")\n",
    "\n",
    "# Printing results\n",
    "print(\"Original DataFrame with Date-Time Processing:\\n\\n\", df, \"\\n\")\n",
    "print(\"Hourly Aggregation:\\n\\n\", hourly_aggregation, \"\\n\")\n"
   ]
  },
  {
   "cell_type": "code",
   "execution_count": null,
   "id": "37f9843f",
   "metadata": {},
   "outputs": [],
   "source": []
  }
 ],
 "metadata": {
  "kernelspec": {
   "display_name": "Python 3 (ipykernel)",
   "language": "python",
   "name": "python3"
  },
  "language_info": {
   "codemirror_mode": {
    "name": "ipython",
    "version": 3
   },
   "file_extension": ".py",
   "mimetype": "text/x-python",
   "name": "python",
   "nbconvert_exporter": "python",
   "pygments_lexer": "ipython3",
   "version": "3.11.4"
  }
 },
 "nbformat": 4,
 "nbformat_minor": 5
}
