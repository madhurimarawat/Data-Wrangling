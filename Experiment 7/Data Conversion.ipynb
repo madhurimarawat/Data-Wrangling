{
 "cells": [
  {
   "cell_type": "markdown",
   "id": "176dd251",
   "metadata": {},
   "source": [
    "## Experiment 7\n",
    "\n",
    "### Data Conversion: Convert data types of columns, such as converting categorical variables to numerical or vice versa. "
   ]
  },
  {
   "cell_type": "markdown",
   "id": "b2936a46",
   "metadata": {},
   "source": [
    "### Loading Dataset"
   ]
  },
  {
   "cell_type": "code",
   "execution_count": 4,
   "id": "2596ffdc",
   "metadata": {},
   "outputs": [
    {
     "name": "stdout",
     "output_type": "stream",
     "text": [
      "Original Iris Dataset:\n",
      "\n",
      "   sepal_length  sepal_width  petal_length  petal_width species\n",
      "0           5.1          3.5           1.4          0.2  setosa\n",
      "1           4.9          3.0           1.4          0.2  setosa\n",
      "2           4.7          3.2           1.3          0.2  setosa\n",
      "3           4.6          3.1           1.5          0.2  setosa\n",
      "4           5.0          3.6           1.4          0.2  setosa\n"
     ]
    }
   ],
   "source": [
    "# Import required libraries\n",
    "import pandas as pd\n",
    "import seaborn as sns\n",
    "from sklearn.preprocessing import LabelEncoder\n",
    "\n",
    "# Load the iris dataset (for demonstration)\n",
    "iris = sns.load_dataset('iris')\n",
    "\n",
    "# Display the first few rows of the original dataset\n",
    "print(\"Original Iris Dataset:\\n\")\n",
    "print(iris.head())"
   ]
  },
  {
   "cell_type": "markdown",
   "id": "22579a39",
   "metadata": {},
   "source": [
    "### 1. Convert Categorical Columns to Numerical"
   ]
  },
  {
   "cell_type": "code",
   "execution_count": 5,
   "id": "0ee83417",
   "metadata": {},
   "outputs": [
    {
     "name": "stdout",
     "output_type": "stream",
     "text": [
      "\n",
      "Iris Dataset with 'species' Converted to Numerical:\n",
      "\n",
      "  species  species_numeric\n",
      "0  setosa                0\n",
      "1  setosa                0\n",
      "2  setosa                0\n",
      "3  setosa                0\n",
      "4  setosa                0\n"
     ]
    }
   ],
   "source": [
    "# Data Conversion: Convert categorical columns to numerical\n",
    "# The 'species' column is categorical, let's convert it to numerical using LabelEncoder\n",
    "label_encoder = LabelEncoder()\n",
    "iris['species_numeric'] = label_encoder.fit_transform(iris['species'])\n",
    "\n",
    "# Display the dataset after conversion\n",
    "print(\"\\nIris Dataset with 'species' Converted to Numerical:\\n\")\n",
    "print(iris[['species', 'species_numeric']].head())"
   ]
  },
  {
   "cell_type": "markdown",
   "id": "bac6119b",
   "metadata": {},
   "source": [
    "### 2. Convert Numerical back to Categorical"
   ]
  },
  {
   "cell_type": "code",
   "execution_count": 6,
   "id": "5bff3a18",
   "metadata": {},
   "outputs": [
    {
     "name": "stdout",
     "output_type": "stream",
     "text": [
      "\n",
      "Iris Dataset with 'species_numeric' Reverted Back to Categorical:\n",
      "\n",
      "   species_numeric species_reverted\n",
      "0                0           setosa\n",
      "1                0           setosa\n",
      "2                0           setosa\n",
      "3                0           setosa\n",
      "4                0           setosa\n"
     ]
    }
   ],
   "source": [
    "# Convert numerical back to categorical (reversing the process)\n",
    "iris['species_reverted'] = label_encoder.inverse_transform(iris['species_numeric'])\n",
    "\n",
    "# Display the dataset after reverting the conversion\n",
    "print(\"\\nIris Dataset with 'species_numeric' Reverted Back to Categorical:\\n\")\n",
    "print(iris[['species_numeric', 'species_reverted']].head())"
   ]
  },
  {
   "cell_type": "code",
   "execution_count": null,
   "id": "3b225934",
   "metadata": {},
   "outputs": [],
   "source": []
  }
 ],
 "metadata": {
  "kernelspec": {
   "display_name": "Python 3 (ipykernel)",
   "language": "python",
   "name": "python3"
  },
  "language_info": {
   "codemirror_mode": {
    "name": "ipython",
    "version": 3
   },
   "file_extension": ".py",
   "mimetype": "text/x-python",
   "name": "python",
   "nbconvert_exporter": "python",
   "pygments_lexer": "ipython3",
   "version": "3.11.4"
  }
 },
 "nbformat": 4,
 "nbformat_minor": 5
}
