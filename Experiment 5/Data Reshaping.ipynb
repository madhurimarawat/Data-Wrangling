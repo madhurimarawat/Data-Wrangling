{
 "cells": [
  {
   "cell_type": "markdown",
   "id": "3848b0a8",
   "metadata": {},
   "source": [
    "## Experiment 5\n",
    "\n",
    "### Data Reshaping: Reshape data by pivoting, stacking, or unstacking to convert between wide and long formats. "
   ]
  },
  {
   "cell_type": "markdown",
   "id": "162085f2",
   "metadata": {},
   "source": [
    "### Data Reshaping: Pivoting, Stacking, and Unstacking in Pandas\n",
    "\n",
    "Data reshaping involves transforming data structures between wide and long formats, which is useful for summarization, analysis, and visualization. In **Pandas**, the key functions used for reshaping are:\n",
    "\n",
    "1. **Pivot**: Reshapes data by turning unique values from one column into multiple columns.\n",
    "2. **Stack**: Converts columns into rows (long format).\n",
    "3. **Unstack**: Converts rows into columns (wide format).\n",
    "\n",
    "For this example, we'll use a **Sales dataset**, which contains sales information for different products over months."
   ]
  },
  {
   "cell_type": "markdown",
   "id": "19072082",
   "metadata": {},
   "source": [
    "### Sample Dataset (Sales Data)"
   ]
  },
  {
   "cell_type": "code",
   "execution_count": 2,
   "id": "32e06d4a",
   "metadata": {},
   "outputs": [
    {
     "name": "stdout",
     "output_type": "stream",
     "text": [
      "Original Sales Dataset:\n",
      "\n",
      "   Month Product  Sales\n",
      "0   Jan       A    200\n",
      "1   Jan       B    150\n",
      "2   Feb       A    220\n",
      "3   Feb       B    180\n",
      "4   Mar       A    250\n",
      "5   Mar       B    210\n"
     ]
    }
   ],
   "source": [
    "import pandas as pd\n",
    "\n",
    "# Creating a sample Sales dataset\n",
    "data = {\n",
    "    'Month': ['Jan', 'Jan', 'Feb', 'Feb', 'Mar', 'Mar'],\n",
    "    'Product': ['A', 'B', 'A', 'B', 'A', 'B'],\n",
    "    'Sales': [200, 150, 220, 180, 250, 210]\n",
    "}\n",
    "\n",
    "df_sales = pd.DataFrame(data)\n",
    "print(\"Original Sales Dataset:\\n\\n\", df_sales)"
   ]
  },
  {
   "cell_type": "markdown",
   "id": "e5975ac9",
   "metadata": {},
   "source": [
    "### 1. **Pivoting** (Converting Long Format to Wide Format)\n",
    "\n",
    "The `pivot()` function reshapes the dataset by setting index and columns. In this case, we'll pivot the `Product` column to create separate columns for each product.\n",
    "\n",
    "**Explanation**: Here, the `pivot()` function turned the unique values in the `Product` column (A and B) into columns, while the `Sales` values remain in the cells. The `Month` column becomes the index."
   ]
  },
  {
   "cell_type": "code",
   "execution_count": 4,
   "id": "6f5ccc96",
   "metadata": {},
   "outputs": [
    {
     "name": "stdout",
     "output_type": "stream",
     "text": [
      "\n",
      "Pivoted Dataset (Wide Format):\n",
      "\n",
      " Product    A    B\n",
      "Month            \n",
      "Feb      220  180\n",
      "Jan      200  150\n",
      "Mar      250  210\n"
     ]
    }
   ],
   "source": [
    "# Pivot: Reshaping by turning 'Product' values into separate columns\n",
    "df_pivot = df_sales.pivot(index='Month', columns='Product', values='Sales')\n",
    "\n",
    "print(\"\\nPivoted Dataset (Wide Format):\\n\\n\", df_pivot)"
   ]
  },
  {
   "cell_type": "markdown",
   "id": "7c5033d7",
   "metadata": {},
   "source": [
    "### 2. **Stacking** (Converting Wide Format to Long Format)\n",
    "\n",
    "The `stack()` function reshapes the DataFrame by stacking columns into rows. It moves the data from a wide format (like after pivoting) into a long format.\n",
    "\n",
    "**Explanation**: `stack()` takes the columns (`A` and `B`) and moves them under the row index `Month`, returning to a long format similar to the original structure."
   ]
  },
  {
   "cell_type": "code",
   "execution_count": 6,
   "id": "8697c58a",
   "metadata": {},
   "outputs": [
    {
     "name": "stdout",
     "output_type": "stream",
     "text": [
      "\n",
      "Stacked Dataset (Long Format):\n",
      "\n",
      " Month  Product\n",
      "Feb    A          220\n",
      "       B          180\n",
      "Jan    A          200\n",
      "       B          150\n",
      "Mar    A          250\n",
      "       B          210\n",
      "dtype: int64\n"
     ]
    }
   ],
   "source": [
    "# Stacking: Converting columns into rows (long format)\n",
    "df_stacked = df_pivot.stack()\n",
    "\n",
    "print(\"\\nStacked Dataset (Long Format):\\n\\n\", df_stacked)"
   ]
  },
  {
   "cell_type": "markdown",
   "id": "11d95880",
   "metadata": {},
   "source": [
    "### 3. **Unstacking** (Converting Long Format to Wide Format)\n",
    "\n",
    "The `unstack()` function does the opposite of `stack()`. It moves the index (in this case, `Product`) back into columns, creating a wide format.\n",
    "\n",
    "**Explanation**: `unstack()` takes the multi-index from `stack()` and reshapes it back into a wide format, where `Product` values return as columns."
   ]
  },
  {
   "cell_type": "code",
   "execution_count": 8,
   "id": "83ef2276",
   "metadata": {},
   "outputs": [
    {
     "name": "stdout",
     "output_type": "stream",
     "text": [
      "\n",
      "Unstacked Dataset (Wide Format):\n",
      "\n",
      " Product    A    B\n",
      "Month            \n",
      "Feb      220  180\n",
      "Jan      200  150\n",
      "Mar      250  210\n"
     ]
    }
   ],
   "source": [
    "# Unstacking: Converting rows into columns (wide format)\n",
    "df_unstacked = df_stacked.unstack()\n",
    "\n",
    "print(\"\\nUnstacked Dataset (Wide Format):\\n\\n\", df_unstacked)"
   ]
  },
  {
   "cell_type": "markdown",
   "id": "66f6b58d",
   "metadata": {},
   "source": [
    "### 4. **Melt** (Another Long Format Function)\n",
    "\n",
    "While `stack()` reshapes columns to rows, **`melt()`** is also useful to convert a wide dataset into a long format.\n",
    "\n",
    "**Explanation**: The `melt()` function converts the dataset into a long format, where `Month` and `Product` form key columns, and `Sales` contains the corresponding values."
   ]
  },
  {
   "cell_type": "code",
   "execution_count": 9,
   "id": "db00cdc1",
   "metadata": {},
   "outputs": [
    {
     "name": "stdout",
     "output_type": "stream",
     "text": [
      "\n",
      "Melted Dataset (Long Format):\n",
      "\n",
      "   Month Product  Sales\n",
      "0   Feb       A    220\n",
      "1   Jan       A    200\n",
      "2   Mar       A    250\n",
      "3   Feb       B    180\n",
      "4   Jan       B    150\n",
      "5   Mar       B    210\n"
     ]
    }
   ],
   "source": [
    "df_melted = df_pivot.reset_index().melt(id_vars='Month', var_name='Product', value_name='Sales')\n",
    "\n",
    "print(\"\\nMelted Dataset (Long Format):\\n\\n\", df_melted)"
   ]
  },
  {
   "cell_type": "markdown",
   "id": "e56ffb69",
   "metadata": {},
   "source": [
    "### Summary of Functions:\n",
    "1. **pivot()**: Converts long format to wide format by creating new columns based on unique values in a given column.\n",
    "2. **stack()**: Converts wide format to long format by stacking columns into rows.\n",
    "3. **unstack()**: Converts long format to wide format by turning multi-indexed rows into columns.\n",
    "4. **melt()**: Converts wide data back to long format by gathering columns into a row-wise format.\n",
    "\n",
    "These functions help reshape data to better suit analysis, visualization, or machine learning workflows."
   ]
  },
  {
   "cell_type": "code",
   "execution_count": null,
   "id": "12733f2b",
   "metadata": {},
   "outputs": [],
   "source": []
  }
 ],
 "metadata": {
  "kernelspec": {
   "display_name": "Python 3 (ipykernel)",
   "language": "python",
   "name": "python3"
  },
  "language_info": {
   "codemirror_mode": {
    "name": "ipython",
    "version": 3
   },
   "file_extension": ".py",
   "mimetype": "text/x-python",
   "name": "python",
   "nbconvert_exporter": "python",
   "pygments_lexer": "ipython3",
   "version": "3.11.4"
  }
 },
 "nbformat": 4,
 "nbformat_minor": 5
}
