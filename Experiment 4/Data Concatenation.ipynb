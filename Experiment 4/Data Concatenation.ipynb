{
 "cells": [
  {
   "cell_type": "markdown",
   "id": "10a56661",
   "metadata": {},
   "source": [
    "## Experiment 4\n",
    "\n",
    "### Data Concatenation: Concatenate multiple datasets along rows or columns to create a unified dataset. "
   ]
  },
  {
   "cell_type": "markdown",
   "id": "5dff8ff4",
   "metadata": {},
   "source": [
    "### 1. Concatenating along Rows\n",
    "If we want to concatenate datasets along the rows (stacking them vertically), use the `pd.concat()` function:"
   ]
  },
  {
   "cell_type": "code",
   "execution_count": 7,
   "id": "77d2f95f",
   "metadata": {},
   "outputs": [
    {
     "name": "stdout",
     "output_type": "stream",
     "text": [
      "Concatenating along Rows:\n",
      "\n",
      "   A   B\n",
      "0  1   4\n",
      "1  2   5\n",
      "2  3   6\n",
      "0  7  10\n",
      "1  8  11\n",
      "2  9  12\n"
     ]
    }
   ],
   "source": [
    "import pandas as pd\n",
    "\n",
    "# Creating sample datasets\n",
    "data1 = {'A': [1, 2, 3], 'B': [4, 5, 6]}\n",
    "data2 = {'A': [7, 8, 9], 'B': [10, 11, 12]}\n",
    "\n",
    "df1 = pd.DataFrame(data1)\n",
    "df2 = pd.DataFrame(data2)\n",
    "\n",
    "# Concatenate along rows (axis=0)\n",
    "concatenated_df = pd.concat([df1, df2], axis=0)\n",
    "\n",
    "print(\"Concatenating along Rows:\\n\")\n",
    "print(concatenated_df)"
   ]
  },
  {
   "cell_type": "markdown",
   "id": "0bc1916c",
   "metadata": {},
   "source": [
    "### Wine Dataset"
   ]
  },
  {
   "cell_type": "code",
   "execution_count": 11,
   "id": "5a14d900",
   "metadata": {},
   "outputs": [
    {
     "name": "stdout",
     "output_type": "stream",
     "text": [
      "First Wine Dataset:\n",
      "\n",
      "    Alcohol  Malic_Acid  Ash\n",
      "0     13.2        2.34  2.5\n",
      "1     13.5        1.23  2.4\n",
      "2     13.8        2.67  2.6\n",
      "\n",
      "Second Wine Dataset:\n",
      "\n",
      "    Alcohol  Malic_Acid  Ash\n",
      "0     12.9        1.98  2.3\n",
      "1     13.1        2.01  2.4\n",
      "2     12.8        1.95  2.5\n"
     ]
    }
   ],
   "source": [
    "# Creating two sample Wine datasets\n",
    "wine_data1 = {'Alcohol': [13.2, 13.5, 13.8], \n",
    "              'Malic_Acid': [2.34, 1.23, 2.67], \n",
    "              'Ash': [2.5, 2.4, 2.6]}\n",
    "\n",
    "wine_data2 = {'Alcohol': [12.9, 13.1, 12.8], \n",
    "              'Malic_Acid': [1.98, 2.01, 1.95], \n",
    "              'Ash': [2.3, 2.4, 2.5]}\n",
    "\n",
    "df_wine1 = pd.DataFrame(wine_data1)\n",
    "df_wine2 = pd.DataFrame(wine_data2)\n",
    "\n",
    "print(\"First Wine Dataset:\\n\\n\", df_wine1)\n",
    "print(\"\\nSecond Wine Dataset:\\n\\n\", df_wine2)"
   ]
  },
  {
   "cell_type": "code",
   "execution_count": 13,
   "id": "6b4fa2ac",
   "metadata": {},
   "outputs": [
    {
     "name": "stdout",
     "output_type": "stream",
     "text": [
      "Concatenated Along Rows:\n",
      "\n",
      "    Alcohol  Malic_Acid  Ash\n",
      "0     13.2        2.34  2.5\n",
      "1     13.5        1.23  2.4\n",
      "2     13.8        2.67  2.6\n",
      "0     12.9        1.98  2.3\n",
      "1     13.1        2.01  2.4\n",
      "2     12.8        1.95  2.5\n"
     ]
    }
   ],
   "source": [
    "# Concatenating along rows\n",
    "wine_concat_rows = pd.concat([df_wine1, df_wine2], axis=0)\n",
    "\n",
    "print(\"Concatenated Along Rows:\\n\\n\", wine_concat_rows)"
   ]
  },
  {
   "cell_type": "markdown",
   "id": "220bd5aa",
   "metadata": {},
   "source": [
    "### 2. Concatenating along Columns\n",
    "\n",
    "If we want to concatenate datasets along the columns (side-by-side horizontally), set `axis=1`.\n",
    "\n",
    "In the second case, we might see duplicate column names, so it's useful to rename columns if needed."
   ]
  },
  {
   "cell_type": "code",
   "execution_count": 6,
   "id": "797292f1",
   "metadata": {},
   "outputs": [
    {
     "name": "stdout",
     "output_type": "stream",
     "text": [
      "Concatenating along Columns:\n",
      "\n",
      "   A  B  A   B\n",
      "0  1  4  7  10\n",
      "1  2  5  8  11\n",
      "2  3  6  9  12\n"
     ]
    }
   ],
   "source": [
    "# Concatenate along columns (axis=1)\n",
    "concatenated_df = pd.concat([df1, df2], axis=1)\n",
    "\n",
    "print(\"Concatenating along Columns:\\n\")\n",
    "print(concatenated_df)"
   ]
  },
  {
   "cell_type": "markdown",
   "id": "6a7268c6",
   "metadata": {},
   "source": [
    "### Wine Dataset"
   ]
  },
  {
   "cell_type": "code",
   "execution_count": 14,
   "id": "ed3b7053",
   "metadata": {},
   "outputs": [
    {
     "name": "stdout",
     "output_type": "stream",
     "text": [
      "Concatenated Along Columns:\n",
      "\n",
      "    Alcohol  Malic_Acid  Ash  Alcohol  Malic_Acid  Ash\n",
      "0     13.2        2.34  2.5     12.9        1.98  2.3\n",
      "1     13.5        1.23  2.4     13.1        2.01  2.4\n",
      "2     13.8        2.67  2.6     12.8        1.95  2.5\n"
     ]
    }
   ],
   "source": [
    "# Concatenating along columns\n",
    "wine_concat_columns = pd.concat([df_wine1, df_wine2], axis=1)\n",
    "\n",
    "print(\"Concatenated Along Columns:\\n\\n\", wine_concat_columns)"
   ]
  },
  {
   "cell_type": "markdown",
   "id": "98d54440",
   "metadata": {},
   "source": [
    "### 3. Using Append\n",
    "\n",
    "The `append()` function in `pandas` is another way to combine datasets by adding rows. However, note that it was deprecated in `pandas` version 2.0. The `pd.concat()` method is now the recommended approach for appending. Nevertheless, here's how the `append()` function works for earlier versions:\n",
    "\n",
    "### Example with `append()` (Deprecated in newer versions)"
   ]
  },
  {
   "cell_type": "code",
   "execution_count": 8,
   "id": "0ab585aa",
   "metadata": {},
   "outputs": [
    {
     "name": "stdout",
     "output_type": "stream",
     "text": [
      "Using append function:\n",
      "\n",
      "   A   B\n",
      "0  1   4\n",
      "1  2   5\n",
      "2  3   6\n",
      "0  7  10\n",
      "1  8  11\n",
      "2  9  12\n"
     ]
    },
    {
     "name": "stderr",
     "output_type": "stream",
     "text": [
      "C:\\Users\\rawat\\AppData\\Local\\Temp\\ipykernel_2484\\3295141399.py:5: FutureWarning: The frame.append method is deprecated and will be removed from pandas in a future version. Use pandas.concat instead.\n",
      "  appended_df = df1.append(df2)\n"
     ]
    }
   ],
   "source": [
    "df1 = pd.DataFrame(data1)\n",
    "df2 = pd.DataFrame(data2)\n",
    "\n",
    "# Appending df2 to df1\n",
    "appended_df = df1.append(df2)\n",
    "\n",
    "print(\"Using append function:\\n\")\n",
    "print(appended_df)"
   ]
  },
  {
   "cell_type": "markdown",
   "id": "b6d01f79",
   "metadata": {},
   "source": [
    "### Migrating from `append()` to `pd.concat()`\n",
    "Since `append()` is deprecated, we can replace it with `pd.concat()` like this.\n",
    "\n",
    "\n",
    "Using `ignore_index=True` in `concat()` ensures that the indices are reset after appending, similar to the behavior of `append()`."
   ]
  },
  {
   "cell_type": "code",
   "execution_count": 9,
   "id": "2c13075a",
   "metadata": {},
   "outputs": [
    {
     "name": "stdout",
     "output_type": "stream",
     "text": [
      "Using concat instead of append function:\n",
      "\n",
      "   A   B\n",
      "0  1   4\n",
      "1  2   5\n",
      "2  3   6\n",
      "3  7  10\n",
      "4  8  11\n",
      "5  9  12\n"
     ]
    }
   ],
   "source": [
    "# Using concat() as a replacement for append()\n",
    "concatenated_df = pd.concat([df1, df2], ignore_index=True)\n",
    "\n",
    "print(\"Using concat instead of append function:\\n\")\n",
    "print(concatenated_df)"
   ]
  },
  {
   "cell_type": "markdown",
   "id": "6c55385e",
   "metadata": {},
   "source": [
    "### Wine Dataset"
   ]
  },
  {
   "cell_type": "code",
   "execution_count": 16,
   "id": "e16074f5",
   "metadata": {},
   "outputs": [
    {
     "name": "stdout",
     "output_type": "stream",
     "text": [
      "Appended Dataset:\n",
      "\n",
      "    Alcohol  Malic_Acid  Ash\n",
      "0     13.2        2.34  2.5\n",
      "1     13.5        1.23  2.4\n",
      "2     13.8        2.67  2.6\n",
      "0     12.9        1.98  2.3\n",
      "1     13.1        2.01  2.4\n",
      "2     12.8        1.95  2.5\n"
     ]
    },
    {
     "name": "stderr",
     "output_type": "stream",
     "text": [
      "C:\\Users\\rawat\\AppData\\Local\\Temp\\ipykernel_2484\\1776273479.py:2: FutureWarning: The frame.append method is deprecated and will be removed from pandas in a future version. Use pandas.concat instead.\n",
      "  wine_appended = df_wine1.append(df_wine2)\n"
     ]
    }
   ],
   "source": [
    "# Appending the second dataset to the first (Deprecated)\n",
    "wine_appended = df_wine1.append(df_wine2)\n",
    "\n",
    "print(\"Appended Dataset:\\n\\n\", wine_appended)"
   ]
  },
  {
   "cell_type": "code",
   "execution_count": 18,
   "id": "11e17ec2",
   "metadata": {},
   "outputs": [
    {
     "name": "stdout",
     "output_type": "stream",
     "text": [
      "Concatenated (as append) Dataset:\n",
      "\n",
      "    Alcohol  Malic_Acid  Ash\n",
      "0     13.2        2.34  2.5\n",
      "1     13.5        1.23  2.4\n",
      "2     13.8        2.67  2.6\n",
      "3     12.9        1.98  2.3\n",
      "4     13.1        2.01  2.4\n",
      "5     12.8        1.95  2.5\n"
     ]
    }
   ],
   "source": [
    "# Using concat() as a replacement for append()\n",
    "wine_concat_as_append = pd.concat([df_wine1, df_wine2], ignore_index=True)\n",
    "\n",
    "print(\"Concatenated (as append) Dataset:\\n\\n\", wine_concat_as_append)"
   ]
  },
  {
   "cell_type": "code",
   "execution_count": null,
   "id": "ec9eb281",
   "metadata": {},
   "outputs": [],
   "source": []
  }
 ],
 "metadata": {
  "kernelspec": {
   "display_name": "Python 3 (ipykernel)",
   "language": "python",
   "name": "python3"
  },
  "language_info": {
   "codemirror_mode": {
    "name": "ipython",
    "version": 3
   },
   "file_extension": ".py",
   "mimetype": "text/x-python",
   "name": "python",
   "nbconvert_exporter": "python",
   "pygments_lexer": "ipython3",
   "version": "3.11.4"
  }
 },
 "nbformat": 4,
 "nbformat_minor": 5
}
