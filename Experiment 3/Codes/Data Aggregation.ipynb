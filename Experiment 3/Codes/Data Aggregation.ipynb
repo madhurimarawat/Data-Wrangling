{
 "cells": [
  {
   "cell_type": "markdown",
   "id": "e62a76d2",
   "metadata": {},
   "source": [
    "## Experiment 3\n",
    "\n",
    "### Data Aggregation: Aggregate data by grouping rows based on a specific attribute and computing summary statistics, such as mean, median, or count."
   ]
  },
  {
   "cell_type": "markdown",
   "id": "33d08823",
   "metadata": {},
   "source": [
    "### Importing Required Libraries"
   ]
  },
  {
   "cell_type": "code",
   "execution_count": 1,
   "id": "b438112a",
   "metadata": {},
   "outputs": [],
   "source": [
    "import pandas as pd"
   ]
  },
  {
   "cell_type": "markdown",
   "id": "f9e94df2",
   "metadata": {},
   "source": [
    "### Creating Dataframe"
   ]
  },
  {
   "cell_type": "code",
   "execution_count": 6,
   "id": "5c71e7f5",
   "metadata": {},
   "outputs": [
    {
     "name": "stdout",
     "output_type": "stream",
     "text": [
      "Dataframe is:\n",
      "\n",
      "  Department  Salary\n",
      "0         HR   50000\n",
      "1      Sales   60000\n",
      "2         HR   55000\n",
      "3         IT   70000\n",
      "4      Sales   65000\n",
      "5         IT   72000\n",
      "6         HR   52000\n",
      "7      Sales   64000\n"
     ]
    }
   ],
   "source": [
    "# Sample data\n",
    "data = {\n",
    "    'Department': ['HR', 'Sales', 'HR', 'IT', 'Sales', 'IT', 'HR', 'Sales'],\n",
    "    'Salary': [50000, 60000, 55000, 70000, 65000, 72000, 52000, 64000]\n",
    "}\n",
    "\n",
    "# Create a DataFrame\n",
    "df = pd.DataFrame(data)\n",
    "\n",
    "# Printing Dataframe\n",
    "print(\"Dataframe is:\\n\")\n",
    "print(df)"
   ]
  },
  {
   "cell_type": "markdown",
   "id": "5b2c4855",
   "metadata": {},
   "source": [
    "### 1. Compute Mean"
   ]
  },
  {
   "cell_type": "code",
   "execution_count": 10,
   "id": "0eb63137",
   "metadata": {},
   "outputs": [
    {
     "name": "stdout",
     "output_type": "stream",
     "text": [
      "Mean of Data is:\n",
      "\n",
      "  Department        Salary\n",
      "0         HR  52333.333333\n",
      "1         IT  71000.000000\n",
      "2      Sales  63000.000000\n"
     ]
    }
   ],
   "source": [
    "# Group by 'Department' and compute the mean\n",
    "mean_data = df.groupby('Department')['Salary'].mean().reset_index()\n",
    "\n",
    "# Display the result\n",
    "print(\"Mean of Data is:\\n\")\n",
    "print(mean_data)"
   ]
  },
  {
   "cell_type": "markdown",
   "id": "5959a642",
   "metadata": {},
   "source": [
    "### 2. Compute Median"
   ]
  },
  {
   "cell_type": "code",
   "execution_count": 12,
   "id": "219fdd3d",
   "metadata": {},
   "outputs": [
    {
     "name": "stdout",
     "output_type": "stream",
     "text": [
      "Median of Data is:\n",
      "\n",
      "  Department   Salary\n",
      "0         HR  52000.0\n",
      "1         IT  71000.0\n",
      "2      Sales  64000.0\n"
     ]
    }
   ],
   "source": [
    "# Group by 'Department' and compute the mean\n",
    "median_data = df.groupby('Department')['Salary'].median().reset_index()\n",
    "\n",
    "# Display the result\n",
    "print(\"Median of Data is:\\n\")\n",
    "print(median_data )"
   ]
  },
  {
   "cell_type": "markdown",
   "id": "69b0c4eb",
   "metadata": {},
   "source": [
    "### 3. Compute Count"
   ]
  },
  {
   "cell_type": "code",
   "execution_count": 13,
   "id": "bc9ceb1d",
   "metadata": {},
   "outputs": [
    {
     "name": "stdout",
     "output_type": "stream",
     "text": [
      "Count of Data is:\n",
      "\n",
      "  Department  Salary\n",
      "0         HR       3\n",
      "1         IT       2\n",
      "2      Sales       3\n"
     ]
    }
   ],
   "source": [
    "# Group by 'Department' and compute the mean\n",
    "count_data = df.groupby('Department')['Salary'].count().reset_index()\n",
    "\n",
    "# Display the result\n",
    "print(\"Count of Data is:\\n\")\n",
    "print(count_data )"
   ]
  },
  {
   "cell_type": "markdown",
   "id": "cf53b662",
   "metadata": {},
   "source": [
    "### 4.  Aggregate data by grouping rows based on a specific attribute and computing summary statistics like mean, median, and count:"
   ]
  },
  {
   "cell_type": "code",
   "execution_count": 15,
   "id": "bc0119af",
   "metadata": {},
   "outputs": [
    {
     "name": "stdout",
     "output_type": "stream",
     "text": [
      "  Department    mean_value  median_value  count_value\n",
      "0         HR  52333.333333       52000.0            3\n",
      "1         IT  71000.000000       71000.0            2\n",
      "2      Sales  63000.000000       64000.0            3\n"
     ]
    }
   ],
   "source": [
    "# Group by 'Category' and compute summary statistics (mean, median, count)\n",
    "aggregated_data = df.groupby('Department').agg(\n",
    "    mean_value=('Salary', 'mean'),\n",
    "    median_value=('Salary', 'median'),\n",
    "    count_value=('Salary', 'count')\n",
    ").reset_index()\n",
    "\n",
    "# Display the result\n",
    "print(aggregated_data)"
   ]
  },
  {
   "cell_type": "code",
   "execution_count": null,
   "id": "c74c0fbf",
   "metadata": {},
   "outputs": [],
   "source": []
  }
 ],
 "metadata": {
  "kernelspec": {
   "display_name": "Python 3 (ipykernel)",
   "language": "python",
   "name": "python3"
  },
  "language_info": {
   "codemirror_mode": {
    "name": "ipython",
    "version": 3
   },
   "file_extension": ".py",
   "mimetype": "text/x-python",
   "name": "python",
   "nbconvert_exporter": "python",
   "pygments_lexer": "ipython3",
   "version": "3.11.4"
  }
 },
 "nbformat": 4,
 "nbformat_minor": 5
}
