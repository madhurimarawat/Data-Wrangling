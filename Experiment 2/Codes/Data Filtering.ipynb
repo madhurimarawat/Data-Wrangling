{
 "cells": [
  {
   "cell_type": "markdown",
   "id": "595979ed",
   "metadata": {},
   "source": [
    "## Experiment 2\n",
    "\n",
    "### Data Filtering: Filter rows or columns based on specified criteria, such as removing outliers or selecting data within a certain range."
   ]
  },
  {
   "cell_type": "markdown",
   "id": "b07fff0a",
   "metadata": {},
   "source": [
    "### **Data Filtering**\n",
    "\n",
    "**Data Filtering** is the process of selecting a specific subset of data from a larger dataset based on predefined conditions or criteria. This can involve removing irrelevant, redundant, or erroneous data to ensure that only the most relevant and accurate information is retained for analysis. Data filtering enhances the quality and clarity of the data, making it easier to identify patterns, trends, and insights. It can be applied to both rows and columns, and is commonly used for:\n",
    "\n",
    "- **Excluding outliers**: Removing extreme values that might skew the results.\n",
    "- **Selecting specific ranges**: Filtering data that falls within a certain numerical or categorical range.\n",
    "- **Matching conditions**: Keeping only rows or columns that satisfy given logical conditions (e.g., selecting data where a column value is greater than a specified threshold).\n",
    "\n",
    "Data filtering ensures that the analysis focuses on meaningful and targeted information, improving the overall efficiency of data processing and decision-making."
   ]
  },
  {
   "cell_type": "markdown",
   "id": "4e047545",
   "metadata": {},
   "source": [
    "### Importing Required Libraries"
   ]
  },
  {
   "cell_type": "code",
   "execution_count": 2,
   "id": "ad8aaef8",
   "metadata": {},
   "outputs": [],
   "source": [
    "import pandas as pd"
   ]
  },
  {
   "cell_type": "markdown",
   "id": "1739acb2",
   "metadata": {},
   "source": [
    "### Creating Dataframe"
   ]
  },
  {
   "cell_type": "code",
   "execution_count": 3,
   "id": "29b89d58",
   "metadata": {},
   "outputs": [
    {
     "name": "stdout",
     "output_type": "stream",
     "text": [
      "Dataframe is:\n",
      "\n",
      "      Name  Score  age\n",
      "0    Alice     85   20\n",
      "1      Bob     92   21\n",
      "2  Charlie     78   19\n",
      "3    David     88   22\n",
      "4      Eva     90   20\n"
     ]
    }
   ],
   "source": [
    "# Sample DataFrame\n",
    "\n",
    "# Creating Dictionary\n",
    "data = {\n",
    "    \"Name\": [\"Alice\", \"Bob\", \"Charlie\", \"David\", \"Eva\"],\n",
    "    \"Score\": [85, 92, 78, 88, 90],\n",
    "    \"age\": [20, 21, 19, 22, 20]\n",
    "}\n",
    "\n",
    "# Creating Dataframe\n",
    "df = pd.DataFrame(data)\n",
    "\n",
    "# Printing Dataframe\n",
    "print(\"Dataframe is:\\n\")\n",
    "print(df)"
   ]
  },
  {
   "cell_type": "markdown",
   "id": "1e4448aa",
   "metadata": {},
   "source": [
    "### 1. Filtering Rows Based on a Condition\n",
    "#### Let's filter rows where the score is greater than or equal to 80."
   ]
  },
  {
   "cell_type": "code",
   "execution_count": 8,
   "id": "28bdef31",
   "metadata": {},
   "outputs": [
    {
     "name": "stdout",
     "output_type": "stream",
     "text": [
      "Dataframe Filtered based on Score/Condition is:\n",
      "\n",
      "    Name  Score  age\n",
      "0  Alice     85   20\n",
      "1    Bob     92   21\n",
      "3  David     88   22\n",
      "4    Eva     90   20\n"
     ]
    }
   ],
   "source": [
    "# Filter rows where the score is greater than or equal to 80\n",
    "filtered_df = df[df[\"Score\"] >= 80]\n",
    "\n",
    "# Printing Filtered Dataframe\n",
    "print(\"Dataframe Filtered based on Score/Condition is:\\n\")\n",
    "print(filtered_df)"
   ]
  },
  {
   "cell_type": "markdown",
   "id": "51634e75",
   "metadata": {},
   "source": [
    "### 2. Removing Outliers\n",
    "#### Now, we'll remove outliers by keeping only scores within a specific range (e.g., 70 to 100)."
   ]
  },
  {
   "cell_type": "code",
   "execution_count": 7,
   "id": "102f7b89",
   "metadata": {},
   "outputs": [
    {
     "name": "stdout",
     "output_type": "stream",
     "text": [
      "Dataframe Filtered based on range for a single column is:\n",
      "\n",
      "      Name  Score  age\n",
      "0    Alice     85   20\n",
      "1      Bob     92   21\n",
      "2  Charlie     78   19\n",
      "3    David     88   22\n",
      "4      Eva     90   20\n"
     ]
    }
   ],
   "source": [
    "# Lower bound of the range\n",
    "lower_bound = 70\n",
    "\n",
    "# Upper bound of the range\n",
    "upper_bound = 100\n",
    "\n",
    "# Filter rows based on the score range\n",
    "filtered_df = df[(df[\"Score\"] >= lower_bound) & (df[\"Score\"] <= upper_bound)]\n",
    "\n",
    "# Printing Filtered Dataframe\n",
    "print(\"Dataframe Filtered based on range for a single column is:\\n\")\n",
    "print(filtered_df)"
   ]
  },
  {
   "cell_type": "markdown",
   "id": "09b1576b",
   "metadata": {},
   "source": [
    "### 3. Selecting Specific Columns\n",
    "#### Finally, let's select only the 'Name' and 'Score' columns."
   ]
  },
  {
   "cell_type": "code",
   "execution_count": 5,
   "id": "d6621e51",
   "metadata": {},
   "outputs": [
    {
     "name": "stdout",
     "output_type": "stream",
     "text": [
      "Dataframe Filtered based on column names Name and Score is:\n",
      "\n",
      "      Name  Score\n",
      "0    Alice     85\n",
      "1      Bob     92\n",
      "2  Charlie     78\n",
      "3    David     88\n",
      "4      Eva     90\n"
     ]
    }
   ],
   "source": [
    "# Select only the ‘Name’ and ‘Score’ columns\n",
    "selected_columns_df = df[[ \"Name\", \"Score\" ]]\n",
    "\n",
    "# Printing Filtered Dataframe\n",
    "print(\"Dataframe Filtered based on column names Name and Score is:\\n\")\n",
    "print(selected_columns_df)"
   ]
  },
  {
   "cell_type": "code",
   "execution_count": null,
   "id": "ae67b35b",
   "metadata": {},
   "outputs": [],
   "source": []
  }
 ],
 "metadata": {
  "kernelspec": {
   "display_name": "Python 3 (ipykernel)",
   "language": "python",
   "name": "python3"
  },
  "language_info": {
   "codemirror_mode": {
    "name": "ipython",
    "version": 3
   },
   "file_extension": ".py",
   "mimetype": "text/x-python",
   "name": "python",
   "nbconvert_exporter": "python",
   "pygments_lexer": "ipython3",
   "version": "3.11.4"
  }
 },
 "nbformat": 4,
 "nbformat_minor": 5
}
